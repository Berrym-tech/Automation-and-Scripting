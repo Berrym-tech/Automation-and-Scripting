{
 "cells": [
  {
   "cell_type": "markdown",
   "metadata": {},
   "source": [
    "<h1> 1. Search for Signs Of Credentials Collection In The Registry </h1>"
   ]
  },
  {
   "cell_type": "code",
   "execution_count": null,
   "metadata": {},
   "outputs": [],
   "source": [
    "import glob\n",
    "import urlHaus as CSVer\n",
    "\n",
    "files = glob.glob(\"../../logs/w32processes/*\")\n",
    "listOfLsa = []\n",
    "\n",
    "for x in range(0, len(files)):\n",
    "    files[x] = files[x].replace(\"\\\\\",\"/\")\n",
    "\n",
    "#print(files[0])\n",
    "\n",
    "searchTerm = [\"HKLM\\\\SYSTEM\\\\CurrentControlSet\\\\Control\\\\Lsa\"]\n",
    "#print(searchTerm[0])\n",
    "\n",
    "for z in range(0, len(files)):\n",
    "    listOfLsa.append(CSVer.urlHaus(files[z], searchTerm)) # Append a forward slash to guarentee the tld is the .gov or .edu\n",
    "\n",
    "\n",
    "for y in range(0, len(listOfLsa)):\n",
    "    try:\n",
    "        if listOfLsa[y] == None:\n",
    "            listOfLsa.pop(y)\n",
    "    except:\n",
    "        pass\n",
    "\n",
    "listOfLsa = [x for x in listOfLsa if x]\n",
    "\n",
    "#for r in range(0, len(listOfLsa)):\n",
    "#    print(listOfLsa[r])\n",
    "\n",
    "for g in range(0, len(listOfLsa)):\n",
    "    #print(listOfLsa[0][0])\n",
    "    print(\"**********************************************************************\")\n",
    "    print(\"Type of Attack: Unsecured Credentials in Registry\")\n",
    "    print(\"Arguments: '\"+ listOfLsa[g][0][1] + \"' Hostname: '\" + listOfLsa[g][0][2] + \"' Name: '\" + listOfLsa[g][0][3] + \"' Path: '\" + listOfLsa[g][0][4] + \"' PID: '\" + listOfLsa[g][0][5] + \"' Username: '\" + listOfLsa[g][0][6] + \"'\")\n",
    "\n"
   ]
  },
  {
   "cell_type": "markdown",
   "metadata": {},
   "source": [
    "<h1>2. Search For Processes Running JavaScript Or VBScript</h1>"
   ]
  },
  {
   "cell_type": "code",
   "execution_count": null,
   "metadata": {},
   "outputs": [],
   "source": [
    "import glob\n",
    "import urlHaus as CSVer\n",
    "\n",
    "files = glob.glob(\"../../logs/w32processes/*\")\n",
    "listOfLsa = []\n",
    "\n",
    "for x in range(0, len(files)):\n",
    "    files[x] = files[x].replace(\"\\\\\",\"/\")\n",
    "\n",
    "#print(files[0])\n",
    "\n",
    "searchTerm = [\".hta\", \"vbscript:\", \"about:\", \"javascript:\", \"regHead\", \"wscript.Shell\", \"cscript\", \"jscript\", \"sscript\", \"Regsvr32\", \"mshta\", \"mshta.exe\"]\n",
    "#print(searchTerm[0])\n",
    "\n",
    "for z in range(0, len(files)):\n",
    "    listOfLsa.append(CSVer.urlHaus(files[z], searchTerm)) # Append a forward slash to guarentee the tld is the .gov or .edu\n",
    "\n",
    "\n",
    "for y in range(0, len(listOfLsa)):\n",
    "    try:\n",
    "        if listOfLsa[y] == None:\n",
    "            listOfLsa.pop(y)\n",
    "    except:\n",
    "        pass\n",
    "\n",
    "listOfLsa = [x for x in listOfLsa if x]\n",
    "\n",
    "#for r in range(0, len(listOfLsa)):\n",
    "#    print(listOfLsa[r])\n",
    "\n",
    "for g in range(0, len(listOfLsa)):\n",
    "    #print(listOfLsa[0][0])\n",
    "    print(\"**********************************************************************\")\n",
    "    print(\"Type of Attack: Application Whitelist Bypass\")\n",
    "    print(\"Arguments: '\"+ listOfLsa[g][0][1] + \"' Hostname: '\" + listOfLsa[g][0][2] + \"' Name: '\" + listOfLsa[g][0][3] + \"' Path: '\" + listOfLsa[g][0][4] + \"' PID: '\" + listOfLsa[g][0][5] + \"' Username: '\" + listOfLsa[g][0][6] + \"'\")\n",
    "\n"
   ]
  },
  {
   "cell_type": "markdown",
   "metadata": {},
   "source": [
    "<h1>3. Search for Powershell executions </h1>"
   ]
  },
  {
   "cell_type": "code",
   "execution_count": null,
   "metadata": {},
   "outputs": [],
   "source": [
    "import glob\n",
    "import urlHaus as CSVer\n",
    "\n",
    "files = glob.glob(\"../../logs/w32processes/*\")\n",
    "listOfLsa = []\n",
    "\n",
    "for x in range(0, len(files)):\n",
    "    files[x] = files[x].replace(\"\\\\\",\"/\")\n",
    "\n",
    "#print(files[0])\n",
    "\n",
    "searchTerm = [\"powershell.exe\", \"powershell\", \"ps1\", \"psm1\", \"PSLockdownPolicy\", \"ExecutionContext.SessionState.LanguageMode\", \"Net.WebClient\", \"iex\", \"Invoke-\", \"TOKEN_IMPERSONATE\", \"TOKEN_DUPLICATE\", \"TOKEN_ADJUST_PRIVILEGES\", \"TOKEN_PRIVILEGES\", \"GetDelegateForFunctionPointer\", \"System.Reflection.AssemblyName\",\"System.Reflection.Emit.AssemblyBuilderAccess\",\"System.MulticastDelegate\",\"System.Reflection.CallingConventions\",\"Get-GPPPassword\",\"System.Security.Cryptography.AesCryptoServiceProvider\",\"0x4e,0x99,0x06,0xe8,0xfc,0xb6,0x6c,0xc9,0xfa,0xf4\",\"Groups.User.Properties.cpassword\",\"ScheduledTasks.Task.Properties.cpassword\",\"'System.Management.Automation.WindowsErrorReporting\",\"Out-MiniDump\",\"MiniDumpWriteDump\",\"ExecutionPolicyPSRemoting\"]\n",
    "\n",
    "#print(searchTerm[0])\n",
    "\n",
    "for z in range(0, len(files)):\n",
    "    listOfLsa.append(CSVer.urlHaus(files[z], searchTerm)) # Append a forward slash to guarentee the tld is the .gov or .edu\n",
    "\n",
    "\n",
    "for y in range(0, len(listOfLsa)):\n",
    "    try:\n",
    "        if listOfLsa[y] == None:\n",
    "            listOfLsa.pop(y)\n",
    "    except:\n",
    "        pass\n",
    "\n",
    "listOfLsa = [x for x in listOfLsa if x]\n",
    "\n",
    "#for r in range(0, len(listOfLsa)):\n",
    "#    print(listOfLsa[r])\n",
    "\n",
    "for g in range(0, len(listOfLsa)):\n",
    "    #print(listOfLsa[0][0])\n",
    "    print(\"**********************************************************************\")\n",
    "    print(\"Type of Attack: Powershell Attack\")\n",
    "    print(\"Arguments: '\"+ listOfLsa[g][0][1] + \"' Hostname: '\" + listOfLsa[g][0][2] + \"' Name: '\" + listOfLsa[g][0][3] + \"' Path: '\" + listOfLsa[g][0][4] + \"' PID: '\" + listOfLsa[g][0][5] + \"' Username: '\" + listOfLsa[g][0][6] + \"'\")\n",
    "\n"
   ]
  }
 ],
 "metadata": {
  "kernelspec": {
   "display_name": "Python 3.10.0 64-bit",
   "language": "python",
   "name": "python3"
  },
  "language_info": {
   "codemirror_mode": {
    "name": "ipython",
    "version": 3
   },
   "file_extension": ".py",
   "mimetype": "text/x-python",
   "name": "python",
   "nbconvert_exporter": "python",
   "pygments_lexer": "ipython3",
   "version": "3.10.0"
  },
  "orig_nbformat": 4,
  "vscode": {
   "interpreter": {
    "hash": "ecb2ee85fb2a0ba966f475aa40f46da2cb9657bdb85e3f709b77c1d74ace8cf1"
   }
  }
 },
 "nbformat": 4,
 "nbformat_minor": 2
}
