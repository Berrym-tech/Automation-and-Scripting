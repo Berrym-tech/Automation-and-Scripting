{
 "cells": [
  {
   "cell_type": "code",
   "execution_count": 34,
   "metadata": {},
   "outputs": [
    {
     "data": {
      "text/plain": [
       "<module 'syslogssh' from 'c:\\\\Users\\\\maxbe\\\\Python Code\\\\Week 1\\\\Class\\\\syslogssh.py'>"
      ]
     },
     "execution_count": 34,
     "metadata": {},
     "output_type": "execute_result"
    }
   ],
   "source": [
    "import syslogssh\n",
    "import syslogSU\n",
    "import importlib\n",
    "importlib.reload(syslogssh)\n",
    "importlib.reload(syslogSU)\n"
   ]
  },
  {
   "cell_type": "markdown",
   "metadata": {},
   "source": [
    "# Review System logs"
   ]
  },
  {
   "cell_type": "markdown",
   "metadata": {},
   "source": [
    "### SSH Authentication Failure domains"
   ]
  },
  {
   "cell_type": "code",
   "execution_count": 35,
   "metadata": {},
   "outputs": [
    {
     "name": "stdout",
     "output_type": "stream",
     "text": [
      "rhost=218.188.2.4\n",
      "rhost=220-135-151-1.hinet-ip.hinet.net\n"
     ]
    }
   ],
   "source": [
    "syslogssh.ssh_fail('../../Logs/smallSyslog.log',['sshd\\(pam_unix\\).*authentication failure.*'])\n"
   ]
  },
  {
   "cell_type": "markdown",
   "metadata": {},
   "source": [
    "### SU Open"
   ]
  },
  {
   "cell_type": "code",
   "execution_count": null,
   "metadata": {},
   "outputs": [],
   "source": [
    "syslogSU.su_open('../../Logs/smallSyslog.log',['su\\(pam_unix\\).*session opened for user.*'])"
   ]
  }
 ],
 "metadata": {
  "kernelspec": {
   "display_name": "Python 3.9.7 64-bit",
   "language": "python",
   "name": "python3"
  },
  "language_info": {
   "codemirror_mode": {
    "name": "ipython",
    "version": 3
   },
   "file_extension": ".py",
   "mimetype": "text/x-python",
   "name": "python",
   "nbconvert_exporter": "python",
   "pygments_lexer": "ipython3",
   "version": "3.9.7"
  },
  "orig_nbformat": 4,
  "vscode": {
   "interpreter": {
    "hash": "4cc63ca795efa6a4defde979d9951913949ee00d5dba5d271ec26219115c6bb8"
   }
  }
 },
 "nbformat": 4,
 "nbformat_minor": 2
}
