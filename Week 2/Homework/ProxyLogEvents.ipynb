{
 "cells": [
  {
   "cell_type": "code",
   "execution_count": 16,
   "metadata": {},
   "outputs": [
    {
     "data": {
      "text/plain": [
       "<module 'Proxylog' from 'c:\\\\Users\\\\maxbe\\\\Python Code\\\\Week 2\\\\Homework\\\\Proxylog.py'>"
      ]
     },
     "execution_count": 16,
     "metadata": {},
     "output_type": "execute_result"
    }
   ],
   "source": [
    "import Proxylog\n",
    "import importlib\n",
    "importlib.reload(Proxylog)"
   ]
  },
  {
   "cell_type": "markdown",
   "metadata": {},
   "source": [
    "### TASK 1"
   ]
  },
  {
   "cell_type": "code",
   "execution_count": 17,
   "metadata": {},
   "outputs": [
    {
     "name": "stdout",
     "output_type": "stream",
     "text": [
      "QQ.exe tcpconn.tencent.com:80 133bytes sent,0bytes recieved.\n",
      "QQ.exe tcpconn6.tencent.com:80 0bytes sent,0bytes recieved.\n",
      "QQ.exe cgi.qqweb.qq.com:80 throughbytes sent,HTTPSbytes recieved.\n",
      "QQ.exe 183.60.49.182:443 throughbytes sent,HTTPSbytes recieved.\n",
      "QQ.exe cgi.qqweb.qq.com:80 477bytes sent,448bytes recieved.\n",
      "QQ.exe tcpconn.tencent.com:80 throughbytes sent,HTTPSbytes recieved.\n",
      "QQ.exe tcpconn3.tencent.com:80 0bytes sent,0bytes recieved.\n",
      "QQ.exe tcpconn6.tencent.com:443 :bytes sent,requestbytes recieved.\n",
      "QQ.exe tcpconn6.tencent.com:80 throughbytes sent,HTTPSbytes recieved.\n",
      "QQ.exe 2052.flash2-http.qq.com:80 466bytes sent,125682bytes recieved.\n",
      "QQ.exe qqmail.tencent.com:80 336bytes sent,2854bytes recieved.\n",
      "QQ.exe tcpconn6.tencent.com:443 throughbytes sent,HTTPSbytes recieved.\n",
      "QQ.exe tcpconn3.tencent.com:443 149bytes sent,121bytes recieved.\n",
      "QQ.exe tcpconn4.tencent.com:80 :bytes sent,connectbytes recieved.\n",
      "QQ.exe tcpconn6.tencent.com:443 0bytes sent,0bytes recieved.\n",
      "QQ.exe tcpconn3.tencent.com:443 throughbytes sent,HTTPSbytes recieved.\n",
      "QQ.exe showxml.qq.com:80 600bytes sent,1716bytes recieved.\n"
     ]
    }
   ],
   "source": [
    "Proxylog.QQexe_events('../../Logs/Proxifier_2k.log','apache','QQ')"
   ]
  },
  {
   "cell_type": "markdown",
   "metadata": {},
   "source": [
    "### TASK 2"
   ]
  },
  {
   "cell_type": "code",
   "execution_count": 18,
   "metadata": {},
   "outputs": [
    {
     "name": "stdout",
     "output_type": "stream",
     "text": [
      "QQ.exe - tcpconn3.tencent.com:443 open through proxy proxy.cse.cuhk.edu.hk:5070 HTTPS\n",
      "QQ.exe - 183.60.49.182:443 open through proxy proxy.cse.cuhk.edu.hk:5070 HTTPS\n",
      "QQ.exe - tcpconn6.tencent.com:443 open through proxy proxy.cse.cuhk.edu.hk:5070 HTTPS\n",
      "QQ.exe - tcpconn6.tencent.com:80 open through proxy proxy.cse.cuhk.edu.hk:5070 HTTPS\n",
      "QQ.exe - cgi.qqweb.qq.com:80 open through proxy proxy.cse.cuhk.edu.hk:5070 HTTPS\n",
      "QQ.exe - tcpconn.tencent.com:80 open through proxy proxy.cse.cuhk.edu.hk:5070 HTTPS\n"
     ]
    }
   ],
   "source": [
    "Proxylog.QQ_open_events('../../Logs/Proxifier_2k.log','apache','QQ')"
   ]
  },
  {
   "cell_type": "markdown",
   "metadata": {},
   "source": [
    "### Question 1"
   ]
  },
  {
   "cell_type": "markdown",
   "metadata": {},
   "source": []
  }
 ],
 "metadata": {
  "kernelspec": {
   "display_name": "Python 3.10.0 64-bit",
   "language": "python",
   "name": "python3"
  },
  "language_info": {
   "codemirror_mode": {
    "name": "ipython",
    "version": 3
   },
   "file_extension": ".py",
   "mimetype": "text/x-python",
   "name": "python",
   "nbconvert_exporter": "python",
   "pygments_lexer": "ipython3",
   "version": "3.10.0"
  },
  "orig_nbformat": 4,
  "vscode": {
   "interpreter": {
    "hash": "ecb2ee85fb2a0ba966f475aa40f46da2cb9657bdb85e3f709b77c1d74ace8cf1"
   }
  }
 },
 "nbformat": 4,
 "nbformat_minor": 2
}
